{
 "cells": [
  {
   "cell_type": "markdown",
   "metadata": {},
   "source": [
    "# GF-Math Tryouts\n"
   ]
  },
  {
   "cell_type": "code",
   "execution_count": null,
   "metadata": {},
   "outputs": [],
   "source": []
  },
  {
   "cell_type": "code",
   "execution_count": null,
   "metadata": {},
   "outputs": [],
   "source": []
  },
  {
   "cell_type": "markdown",
   "metadata": {},
   "source": [
    "Addition and Subtraction in a Galois Field base 2, are implemented as modulo 2 additions/subtracions which means that we can implement this using \"xor\" for these operations. Additions and Subtractions in GF(2) are carryless operations."
   ]
  },
  {
   "cell_type": "code",
   "execution_count": null,
   "metadata": {},
   "outputs": [],
   "source": [
    "# x + y\n",
    "def gf_add(x, y):\n",
    "    return x ^ y\n",
    "\n",
    "# x - y\n",
    "def gf_sub(x, y):\n",
    "    return x ^ y"
   ]
  },
  {
   "cell_type": "markdown",
   "metadata": {},
   "source": [
    "Multiplication is based pon polynomial math\n",
    "\n",
    "* $10001001 = (x^7 + x^3 + 1)$ = 128 + 9 = 137\n",
    "* $00101010 = (x^5 + x^3 + x)$ = 32 + 8 + 2 = 42\n",
    "\n",
    "Let's multiply this\n",
    "\n",
    "* $(x^7 + x^3 + 1)(x^5 + x^3 + x) = x^7(x^5 + x^3 + x) + x^3(x^5 + x^3 + x) + 1(x^5 + x^3 + x)$\n",
    "* $= (x^{12} + x^{10} + x^8) + (x^8 + x^6 + x^4) + (x^5 + x^3 + x)$\n",
    "* $= x^{12} + x^{10} + 2x^8 + x^6 + x^5 + x^4 + x^3 + x$\n",
    "* $= x^{12} + x^{10} + x^6 + x^5 + x^4 + x^3 + x$\n",
    "\n",
    "Result in binary is\n",
    "\n",
    "* $1010001111010$ = 4096 + 1024 + 64 + 32 + 16 + 8 + 2 = 5242\n"
   ]
  },
  {
   "cell_type": "code",
   "execution_count": null,
   "metadata": {},
   "outputs": [],
   "source": [
    "# x * y\n",
    "def gf_polymul(x,y):\n",
    "    result = 0\n",
    "    i=0\n",
    "    while (y>>i) > 0:\n",
    "        if y & (1<<i):\n",
    "            result = gf_add(result,x<<i)\n",
    "        i+=1\n",
    "    return result"
   ]
  },
  {
   "cell_type": "code",
   "execution_count": null,
   "metadata": {},
   "outputs": [],
   "source": [
    "gf_polymul(137,42)"
   ]
  },
  {
   "cell_type": "markdown",
   "metadata": {},
   "source": [
    "The most significant bit of this polynomial is now at position 12 (because of teh term $x^{12}$), This exceedes the $GF(2^8)$, so we must somehow reduce this polyomial to the size of $GF(2^8)$\n",
    "\n",
    "The result is reduced modulo $100011101$ (0x11d), which is a irreducible polynom. There exist more of these primitive irreducible polynomials for GF(2^8).\n",
    "\n",
    "* $x^8 + x^4 + x^3 + x^2 + 1$\n",
    "* $x^8 + x^5 + x^3 + x^1 + 1$\n",
    "* $x^8 + x^6 + x^4 + x^3 + x^2 + x^1 + 1$\n",
    "* $x^8 + x^6 + x^5 + x^1 + 1$\n",
    "* $x^8 + x^6 + x^5 + x^2 + 1$\n",
    "* $x^8 + x^6 + x^5 + x^3 + 1$\n",
    "* $x^8 + x^7 + x^6 + x^1 + 1$\n",
    "* $x^8 + x^7 + x^6 + x^5 + x^2 + x^1 + 1$\n",
    "\n",
    "Next step is to divide the result of the multiplication using a irreducible polynomial.\n",
    "\n",
    "<pre>\n",
    "1010001111010 : 100011101 = 11000011\n",
    "100011101\n",
    "-------------\n",
    "  10110101010\n",
    "  100011101\n",
    "  -----------\n",
    "    111011110\n",
    "    100011101\n",
    "    ---------\n",
    "     11000011\n",
    "</pre"
   ]
  },
  {
   "cell_type": "code",
   "execution_count": null,
   "metadata": {},
   "outputs": [],
   "source": [
    "def gf_msb(value):\n",
    "    msb = 0\n",
    "    while value >> msb:\n",
    "        msb+=1\n",
    "    return msb\n",
    "\n",
    "def gf_reduce_div(dividend, divisor=None):\n",
    "    dividend_msb = gf_msb(dividend)\n",
    "    divisor_msb = gf_msb(divisor)\n",
    "    \n",
    "    if dividend_msb<divisor_msb :\n",
    "        return dividend\n",
    "    \n",
    "    # for all bits above the divisor\n",
    "    for i in range(dividend_msb-divisor_msb,-1,-1):\n",
    "        # we check that particular bit whether it is set\n",
    "        if dividend & (1<<(divisor_msb+i-1)):\n",
    "            # if so we subtract the shifted divisor (via gf_add/gf_sub)\n",
    "            # that will kill the upper most bit \n",
    "            dividend ^=divisor << i\n",
    "    \n",
    "    return dividend\n",
    "\n",
    "# This is how we would do that in school, this is quite laborous\n",
    "def gf_mul_reduce_div(x, y, d):\n",
    "    result = gf_polymul(x,y)\n",
    "    return gf_reduce_div(result,d)\n",
    "\n",
    "gf_mul_reduce_div(137,42, 0x11d)"
   ]
  },
  {
   "cell_type": "code",
   "execution_count": null,
   "metadata": {},
   "outputs": [],
   "source": []
  },
  {
   "cell_type": "code",
   "execution_count": null,
   "metadata": {},
   "outputs": [],
   "source": []
  },
  {
   "cell_type": "markdown",
   "metadata": {},
   "source": [
    "There are different methods of multiplying... $e^{log_e(x)} \\cdot e^{log_e(y)}$ = $e^{log_e(x)+log_e(y)}$.\n",
    "\n",
    "Using a proper \"e\", e.g. the generator number of the primitive generator polynomial, we can implement a multiplication using additions and look up tables for the log-value\n",
    "\n",
    "\n",
    "If we work on this irreducible polynom 0x11d, we can calculate all exponentials and also all logarithms, within a certain range."
   ]
  },
  {
   "cell_type": "code",
   "execution_count": null,
   "metadata": {},
   "outputs": [],
   "source": [
    "gf_exp = [0] * 512 \n",
    "gf_log = [0] * 256\n",
    "\n",
    "def gf_init_exp_tables(prim_generator_polynomial=0x11d):\n",
    "    global gf_exp, gf_log\n",
    "    gf_exp = [0] * 512 \n",
    "    gf_log = [0] * 256\n",
    "\n",
    "    x=1\n",
    "    for i in range(0,255):\n",
    "        # compute \"anti-log\"\n",
    "        gf_exp[i] = x\n",
    "        # compute \"log\"\n",
    "        gf_log[x] = i\n",
    "        \n",
    "        x = gf_mul_reduce_div(x,2,prim_generator_polynomial)\n",
    "\n",
    "# x * y\n",
    "def gf_mul_lut(x,y):\n",
    "    if x==0 or y==0:\n",
    "        return 0\n",
    "    return gf_exp[(gf_log[x] + gf_log[y])%255]\n",
    "\n",
    "gf_init_exp_tables(0x11d)\n",
    "print(gf_mul_lut(137,42))"
   ]
  },
  {
   "cell_type": "code",
   "execution_count": null,
   "metadata": {},
   "outputs": [],
   "source": [
    "# x / y\n",
    "def gf_div_lut(x,y):\n",
    "    if y==0:\n",
    "        raise ZeroDivisionError()\n",
    "    if x==0:\n",
    "        return 0\n",
    "    return gf_exp[ (255+gf_log[x] - gf_log[y])%255 ]"
   ]
  },
  {
   "cell_type": "code",
   "execution_count": null,
   "metadata": {},
   "outputs": [],
   "source": [
    "# x ^ n  (n>0)\n",
    "def gf_pow_lut(x, n):\n",
    "    return gf_exp[(gf_log[x]*n)%255]\n",
    "\n",
    "# 1 / x\n",
    "def gf_inv_lut(x):\n",
    "    return gf_exp[255-gf_log[x]]"
   ]
  },
  {
   "cell_type": "code",
   "execution_count": null,
   "metadata": {},
   "outputs": [],
   "source": [
    "gf_pow_lut(2,8)"
   ]
  },
  {
   "cell_type": "code",
   "execution_count": null,
   "metadata": {},
   "outputs": [],
   "source": []
  },
  {
   "cell_type": "code",
   "execution_count": null,
   "metadata": {},
   "outputs": [],
   "source": []
  }
 ],
 "metadata": {
  "kernelspec": {
   "display_name": "Python 3",
   "language": "python",
   "name": "python3"
  },
  "language_info": {
   "codemirror_mode": {
    "name": "ipython",
    "version": 3
   },
   "file_extension": ".py",
   "mimetype": "text/x-python",
   "name": "python",
   "nbconvert_exporter": "python",
   "pygments_lexer": "ipython3",
   "version": "3.6.4"
  },
  "toc": {
   "base_numbering": 1,
   "nav_menu": {},
   "number_sections": true,
   "sideBar": true,
   "skip_h1_title": false,
   "title_cell": "Table of Contents",
   "title_sidebar": "Contents",
   "toc_cell": false,
   "toc_position": {},
   "toc_section_display": true,
   "toc_window_display": false
  }
 },
 "nbformat": 4,
 "nbformat_minor": 2
}
