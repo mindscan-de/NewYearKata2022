{
 "cells": [
  {
   "cell_type": "markdown",
   "metadata": {},
   "source": [
    "# GF-Math Tryouts\n"
   ]
  },
  {
   "cell_type": "code",
   "execution_count": null,
   "metadata": {},
   "outputs": [],
   "source": []
  },
  {
   "cell_type": "code",
   "execution_count": null,
   "metadata": {},
   "outputs": [],
   "source": []
  },
  {
   "cell_type": "markdown",
   "metadata": {},
   "source": [
    "Addition and Subtraction in a Galois Field base 2, are implemented as modulo 2 additions/subtracions which means that we can implement this using \"xor\" for these operations. Additions and Subtractions in GF(2) are carryless operations."
   ]
  },
  {
   "cell_type": "code",
   "execution_count": null,
   "metadata": {},
   "outputs": [],
   "source": [
    "def gf_add(x, y):\n",
    "    return x ^ y\n",
    "\n",
    "def gf_sub(x, y):\n",
    "    return x ^ y"
   ]
  },
  {
   "cell_type": "markdown",
   "metadata": {},
   "source": [
    "Multiplication is based pon polynomial math\n",
    "\n",
    "* $10001001 = (x^7 + x^3 + 1)$ = 128 + 9 = 137\n",
    "* $00101010 = (x^5 + x^3 + x)$ = 32 + 8 + 2 = 42\n",
    "\n",
    "Let's multiply this\n",
    "\n",
    "* $(x^7 + x^3 + 1)(x^5 + x^3 + x) = x^7(x^5 + x^3 + x) + x^3(x^5 + x^3 + x) + 1(x^5 + x^3 + x)$\n",
    "* $= (x^{12} + x^{10} + x^8) + (x^8 + x^6 + x^4) + (x^5 + x^3 + x)$\n",
    "* $= x^{12} + x^{10} + 2x^8 + x^6 + x^5 + x^4 + x^3 + x$\n",
    "* $= x^{12} + x^{10} + x^6 + x^5 + x^4 + x^3 + x$\n",
    "\n",
    "Result in binary is\n",
    "\n",
    "* $1010001111010$ = 4096 + 1024 + 64 + 32 + 16 + 8 + 2 = 5242\n"
   ]
  },
  {
   "cell_type": "code",
   "execution_count": null,
   "metadata": {},
   "outputs": [],
   "source": [
    "def gf_polymul(x,y):\n",
    "    result = 0\n",
    "    i=0\n",
    "    while (y>>i) > 0:\n",
    "        if y & (1<<i):\n",
    "            result = gf_add(result,x<<i)\n",
    "        i+=1\n",
    "    return result"
   ]
  },
  {
   "cell_type": "code",
   "execution_count": null,
   "metadata": {},
   "outputs": [],
   "source": [
    "gf_polymul(137,42)"
   ]
  },
  {
   "cell_type": "markdown",
   "metadata": {},
   "source": [
    "The most significant bit of this polynomial is now at position 12 (because of teh term $x^{12}$), This exceedes the $GF(2^8)$, so we must somehow reduce this polyomial to the size of $GF(2^8)$\n",
    "\n",
    "The result is reduced modulo $100011101$ (0x11d), which is a irreducible polynom. There exist more of these primitive irreducible polynomials for GF(2^8).\n",
    "\n",
    "* $x^8 + x^4 + x^3 + x^2 + 1$\n",
    "* $x^8 + x^5 + x^3 + x^1 + 1$\n",
    "* $x^8 + x^6 + x^4 + x^3 + x^2 + x^1 + 1$\n",
    "* $x^8 + x^6 + x^5 + x^1 + 1$\n",
    "* $x^8 + x^6 + x^5 + x^2 + 1$\n",
    "* $x^8 + x^6 + x^5 + x^3 + 1$\n",
    "* $x^8 + x^7 + x^6 + x^1 + 1$\n",
    "* $x^8 + x^7 + x^6 + x^5 + x^2 + x^1 + 1$\n",
    "\n",
    "Next step is to divide the result of the multiplication using a irreducible polynomial.\n",
    "\n",
    "<pre>\n",
    "1010001111010 : 100011101 = 11000011\n",
    "100011101\n",
    "-------------\n",
    "  10110101010\n",
    "  100011101\n",
    "  -----------\n",
    "    111011110\n",
    "    100011101\n",
    "    ---------\n",
    "     11000011\n",
    "</pre"
   ]
  },
  {
   "cell_type": "code",
   "execution_count": null,
   "metadata": {},
   "outputs": [],
   "source": []
  },
  {
   "cell_type": "code",
   "execution_count": null,
   "metadata": {},
   "outputs": [],
   "source": []
  },
  {
   "cell_type": "code",
   "execution_count": null,
   "metadata": {},
   "outputs": [],
   "source": []
  },
  {
   "cell_type": "code",
   "execution_count": null,
   "metadata": {},
   "outputs": [],
   "source": []
  },
  {
   "cell_type": "code",
   "execution_count": null,
   "metadata": {},
   "outputs": [],
   "source": []
  }
 ],
 "metadata": {
  "kernelspec": {
   "display_name": "Python 3",
   "language": "python",
   "name": "python3"
  },
  "language_info": {
   "codemirror_mode": {
    "name": "ipython",
    "version": 3
   },
   "file_extension": ".py",
   "mimetype": "text/x-python",
   "name": "python",
   "nbconvert_exporter": "python",
   "pygments_lexer": "ipython3",
   "version": "3.6.4"
  },
  "toc": {
   "base_numbering": 1,
   "nav_menu": {},
   "number_sections": true,
   "sideBar": true,
   "skip_h1_title": false,
   "title_cell": "Table of Contents",
   "title_sidebar": "Contents",
   "toc_cell": false,
   "toc_position": {},
   "toc_section_display": true,
   "toc_window_display": false
  }
 },
 "nbformat": 4,
 "nbformat_minor": 2
}
