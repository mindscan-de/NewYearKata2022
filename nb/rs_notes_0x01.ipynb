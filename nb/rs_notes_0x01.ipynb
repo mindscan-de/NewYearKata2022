{
 "cells": [
  {
   "cell_type": "markdown",
   "metadata": {},
   "source": [
    "## Some Notes on Reed-Solomon-Coding\n",
    "\n",
    "* Linear Block Code\n",
    "  * TODO: What does this mean\n",
    "* (n,k,q)\n",
    "  * n blocklength\n",
    "  * k message symbol lenth\n",
    "  * q size of each symbol in bits\n",
    "* Each messge and code synbol in the block corresponds to an element of a galois field"
   ]
  },
  {
   "cell_type": "markdown",
   "metadata": {},
   "source": [
    "## Galois fields $GF(p^q)$\n",
    "\n",
    "Um Reed-Solomon-Codes zu berechnen, müssen wir lernen, wie man mit Feldern des Typs $GF(p^q)$ rechnet. Für unsere Zwecke reicht es vorerst aus, wenn wir uns mit $p=2$ auseinandersetzen.\n",
    "\n",
    "Ein Element in $GF(2)$ ist entweder $0$ oder $1$. Diese beiden Werte können wir mit einer binären Darstellung ausdrücken durch ein Bit, welches entweder den Wert 0 oder den Wert 1 hat.\n",
    "\n",
    "Ein Element im Feld $GF(2^4)$ können wir als Polynom ausdrücken: $a_3x^3 + a_2x^2 + a_1x^1 + a_0x^0$, jeder einzelne Koeffizent $a_3$, $a_2$, $a_1$, $a_0$ in diesem Polynom ist ein Element in $GF(2)$ und hat wiederum entweder den Wert 0 oder 1. \n",
    "\n",
    "Das Polynom $a_3x^3 + a_2x^2 + a_1x^1 + a_0x^0$ kann durch einen Vektor dieser Koeffizienten $(a_3, a_2, a_1, a_0)$ ebenfalls binär ausgedrückt werden, bspw. für das Polynom $1\\cdot x^3 + 0\\cdot x^2 + 1\\cdot x^1 + 1\\cdot x^0$ durch den Vektor $(1,0,1,1)$ (der Einfachheit halber: \"1011\"). Es gibt im Feld GF(2^4) genau 16 verschiedene Feld-Elemente, die 16 verschiedenen Polynomen entsprechen.\n",
    "\n",
    "### Addition und Subtraktion von Elementen in $GF(2)$\n",
    "\n",
    "Die Addition und Subtraktion einzelner Elemente $a \\in GF(2)$ und $b \\in GF(2)$ wird Modulo 2 ausgeführt: \n",
    "\n",
    "* $a + b$\n",
    "  * $0 + 0 \\mod 2 = 0 \\mod 2 = 0$,\n",
    "  * $1 + 0 \\mod 2 = 1 \\mod 2 = 1$,\n",
    "  * $0 + 1 \\mod 2 = 1 \\mod 2 = 1$,\n",
    "  * $1 + 1 \\mod 2 = 2 \\mod 2 = 0$.\n",
    "* $a - b$\n",
    "  * $0-0 \\mod 2 = 0 \\mod 2 = 0$,\n",
    "  * $1-0 \\mod 2 = 1 \\mod 2 = 1$,\n",
    "  * $0-1 \\mod 2 = (0 \\mod 2) - (1 \\mod 2) = (2 \\mod 2) - (1 \\mod 2) = (2-1) \\mod 2 = 1$,\n",
    "  * $1-1 \\mod 2 = 0 \\mod 2 = 0$.\n",
    "\n",
    "Wir können sehen, dass das Ergebnis der Subtraktionsoperation identisch ist mit dem der Addition. In Gatter-Logik ausgedrückt handelt es sich um eine Exklusiv-Oder-Operation (sog. \"xor\"). Das bedeutet, wir können eine Subtraktion in $GF(2)$ durch eine Addition in $GF(2)$ ersetzen.\n",
    "\n",
    "### Addition und Subtraktion von Feld-Elementen in $GF(2^4)$\n",
    "\n",
    "Die Addition und Subtraktion von Feld-Elementen wird koeffizientweise durchgeführt $(a_3x^3 + a_2x^2 + a_1x^1 + a_0x^0)$ + $(b_3x^3 + b_2x^2 + b_1x^1 + b_0x^0)$ = $(c_3x^3 + c_2x^2 + c_1x^1 + c_0x^0)$. Exakt so wie wir es in der Schule für Polynome gelernt haben.\n",
    "\n",
    "* $c_3 = a_3 + b_3$\n",
    "* $c_2 = a_2 + b_2$\n",
    "* $c_1 = a_1 + b_1$\n",
    "* $c_0 = a_0 + b_0$\n",
    "\n",
    "**TODO:**\n",
    "\n",
    "* Parallelisierbar...\n",
    "* Carryless addition für feld elemente => xor der beiden feld elemente\n",
    "\n",
    "### Multiplikation und Division von Feld-Elementen in $GF(2^4)$\n",
    "\n",
    "* Multiplikation wird auf addition in GF(2^4) zurückgeführt\n",
    "* schriftliche multiplikation von polynomen\n",
    "* multiplikation (und division) von polynomen kann dazu führen, dass das resultat länger als das feld ist\n",
    "* es muss demnach ein irreduzibles polynom p(x) des grades q gefunden werden, das bedeutetm dass a(x) * b(x) modulp p(x) berechnet wird, indem multipliziert wird und der rest ermittelt wird\n",
    "\n",
    "* division ist eine multiplikation mit dem inversen element, wobei das inverse element $a^{-1}(x)$ die bedingung $ a(x) \\cdot a^{-1}(x)=1$ erfüllt\n",
    "\n",
    "### GF(2^8)\n",
    "\n",
    "* für AES verschlüsselung in GF(2^8) wird das polynom 0x11B = x^8 + x^4 + x^3 + x + 1 verwendet\n",
    "* es gibt verschiedene parameter die man für ein feld wählen kann, muss aber vorher festgelegt werden\n",
    "* Feld + primitives Element....\n",
    "* primitives element 2 => 16 verschiedene irreduzible polynome\n",
    "\n",
    "* Tabelle mit Polynomen für $GF(2^8)$"
   ]
  },
  {
   "cell_type": "code",
   "execution_count": null,
   "metadata": {},
   "outputs": [],
   "source": []
  },
  {
   "cell_type": "markdown",
   "metadata": {},
   "source": [
    "## Reed Solomon Encoding\n",
    "\n",
    "* Einführung eines neuen Polynoms, wobei die koeffizenten dieses Mal statt vom Typ $GF(2)$, dieses Mal selbst vom Typ $GF(2^8)$ sind.\n",
    "  * das heisst für die Koeffizienten gelten die Rechenregeln, die wir für $GF(2^8)$ spezifiziert haben: \n",
    "    * Addition, (Abschnitt 2.2)\n",
    "    * Multiplikation, (Abschnitt 2.3)\n",
    "    * Division (Abschnitt 2.3)\n",
    "* Multipliziert wird dieses Polynon (das die eigentliche Nachricht in den koeffizienten enthält) mit dem sog generator polynom des RS-Code g(x)\n",
    "* der divisionsrest zum generator polynom wird ermittelt und anschließend mit gespeichert bzw. mit übertragen\n",
    "\n",
    "* das generator polynom für den RS code hat eine bestimmte eigenschaft.... g(x) hat  n-k Faktoren\n",
    "* Nullstellen dieses Polynoms .... \n",
    "\n",
    "* Encode der Nachricht als ein polynom\n",
    "  * nachrichtenvektor -> polynom p(x)\n",
    "  * so dass $p_x(\\alpha_i) = x_i$ für alle $k$ elemente der nachricht\n",
    "  * wenn das polynom gefunden wurde, dann evaluieren an den stellen $\\alpha_{k+1}$ bis $\\alpha_{n}$"
   ]
  },
  {
   "cell_type": "markdown",
   "metadata": {},
   "source": [
    "## Übertragungskanal\n",
    "\n",
    "Sender:\n",
    "* $s(n) = p(x)*g(x)$\n",
    "\n",
    "Empfänger: (Rauschen / Noise)\n",
    "* empfängt $r(x)$\n",
    "* wenn $s(x) = r(x)$, dann hat r(x)/g(x) keinen divisionsrest -> wir können die ersten k stellen des Polynoms verwenden.\n",
    "* andernfalls ist $r(x) = p(x)*g(x) + e(x)$, wobei e(x) als das Fehlerpolynom bezeichnet wird.\n",
    "  * problem hierbei ist, dass wir noch nicht genau wissen an welchen Stellen e(x) ungleich 0 ist.\n",
    "* der empfänger kennt das generator polynom g(x) und seine nullstellen und kann ein gleichungssystem aufstellen indem er r(x) für jede Nullstelle berechnet.\n",
    "* damit kann er ermitteln, welche Koeffizienten von r fehlerhaft sind und den konkreten fehlerwert\n",
    "\n",
    "Empfänger: (Auslöschungen / Erasures)\n",
    "* für den Fall von Erasures, wissen wir an welchen stellen der nachricht es zu erasures gekommen ist und kennen das Fehlerstellen polynom, so dass wir direkt die korrekten Werte an den fehlerstellen berechnen können."
   ]
  },
  {
   "cell_type": "code",
   "execution_count": null,
   "metadata": {},
   "outputs": [],
   "source": []
  },
  {
   "cell_type": "markdown",
   "metadata": {},
   "source": [
    "## Reed Solomon Decoding\n",
    "\n",
    "* Erkennen ob wir einen Fehler haben ist einfach, verglichen mit einer korrektur. \n",
    "  * Wir führen die Encoding operation durch und vergleichen den Divisionsrest beider operationen, den, den wir mit übertragen haben, mit dem den wir beim empfang berechnet haben\n",
    "    * Ist der divisionsrest gleich -> Daten sind korrekt übertragen worden, daten akzeptiert\n",
    "    * Ist der disisionsrest ungleich -> Daten müssen korrigiert werden\n",
    "    \n",
    "    \n",
    "### Korrektur\n",
    "\n",
    "* Klasisch Berlekamp-Massey-Algorithmus\n",
    "* Errechnen eines syndromvektors/fehler polynoms aus empfangenen Daten und errechneten Daten\n",
    "* Errechnen der Fehlerstellen\n",
    "* Errechnen der korrekten werte an diesen Fehlerstellen\n",
    "\n",
    "## Reed-Solomon-Coding/Decoding with Fourier-Transformation\n",
    "\n",
    "* Wegen FFT wissen wir, wie wir schnell zwischen den Domains transformieren können\n",
    "* Wegen verbesserter Algorithmen für matritzen operationen (bspw. Alphatensor) können wir teure Multiplikationsoperationen durch Additionsoperationen ersetzen."
   ]
  },
  {
   "cell_type": "code",
   "execution_count": null,
   "metadata": {},
   "outputs": [],
   "source": []
  },
  {
   "cell_type": "markdown",
   "metadata": {},
   "source": [
    "## Sources\n",
    "\n",
    "* \"*Reed-Solomon encoders: Conventional versus Berlekamp's architecture*\", Marvin Perlman and Jun-Ji Lee, https://ntrs.nasa.gov/citations/19830008870"
   ]
  }
 ],
 "metadata": {
  "kernelspec": {
   "display_name": "Python 3",
   "language": "python",
   "name": "python3"
  },
  "language_info": {
   "codemirror_mode": {
    "name": "ipython",
    "version": 3
   },
   "file_extension": ".py",
   "mimetype": "text/x-python",
   "name": "python",
   "nbconvert_exporter": "python",
   "pygments_lexer": "ipython3",
   "version": "3.6.4"
  },
  "toc": {
   "base_numbering": 1,
   "nav_menu": {},
   "number_sections": true,
   "sideBar": true,
   "skip_h1_title": false,
   "title_cell": "Table of Contents",
   "title_sidebar": "Contents",
   "toc_cell": false,
   "toc_position": {},
   "toc_section_display": true,
   "toc_window_display": false
  }
 },
 "nbformat": 4,
 "nbformat_minor": 2
}
