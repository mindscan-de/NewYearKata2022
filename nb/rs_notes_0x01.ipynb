{
 "cells": [
  {
   "cell_type": "markdown",
   "metadata": {},
   "source": [
    "# Some Notes on Reed Solomon Coding\n",
    "\n",
    "* Linear Block Code\n",
    "  * TODO: What does this mean\n",
    "* (n,k,q)\n",
    "  * n blocklength\n",
    "  * k message symbol lenth\n",
    "  * q size of each symbol in bits\n",
    "* Each messge and code synbol in the block corresponds to an element of a galois field"
   ]
  },
  {
   "cell_type": "markdown",
   "metadata": {},
   "source": [
    "## Galois fields $GF(p^q)$\n",
    "\n",
    "Um Reed-Solomon-Codes zu berechnen, müssen wir lernen wie man mit Feldern des Typs $GF(p^q)$ rechnet. Für unsere Zwecke reicht es vorerst aus, wenn wir uns mit $p=2$ auseinandersetzen.\n",
    "\n",
    "Ein Element in $GF(2)$ ist entweder $0$ oder $1$. Diese beiden Werte können wir mit einer binären Darstellung ausdrücken durch ein Bit, welches entweder den Wert 0 oder den Wert 1 hat.\n",
    "\n",
    "Ein Element im Feld $GF(2^4)$ können wir als Polynom ausdrücken: $a_3x^3 + a_2x^2 + a_1x^1 + a_0x^0$, jeder einzelne Koeffizent $a_3$, $a_2$, $a_1$, $a_0$ in diesem Polynom ist ein Element in $GF(2)$ und hat wiederum entweder den Wert 0 oder 1. \n",
    "\n",
    "Das Polynom $a_3x^3 + a_2x^2 + a_1x^1 + a_0x^0$ kann durch einen Vektor dieser Koeffizienten $(a_3, a_2, a_1, a_0)$ ebenfalls binär ausgedrückt werden, bspw. für das Polynom $1\\cdot x^3 + 0\\cdot x^2 + 1\\cdot x^1 + 1\\cdot x^0$ durch den Vektor $(1,0,1,1)$ (der Einfachheit halber: \"1011\"). Es gibt im Feld GF(2^4) genau 16 verschiedene Feld-Elemente, die 16 verschiedenen Polynomen entsprechen.\n",
    "\n",
    "### Addition und Subtraktion von Elementen in $GF(2)$\n",
    "\n",
    "Die Addition einzelner Elemente $a \\in GF(2)$ und $b \\in GF(2)$ wird Modulo 2 ausgeführt: \n",
    "\n",
    "* $a + b$\n",
    "  * $0 + 0 \\mod 2 = 0 \\mod 2 = 0$,\n",
    "  * $1 + 0 \\mod 2 = 1 \\mod 2 = 1$,\n",
    "  * $0 + 1 \\mod 2 = 1 \\mod 2 = 1$,\n",
    "  * $1 + 1 \\mod 2 = 2 \\mod 2 = 0$.\n",
    "\n",
    "Die Subtraktion einzelner Elemente $a \\in GF(2)$ und $b \\in GF(2)$ wird ebenfalls Modulo 2 ausgeführt:\n",
    "\n",
    "* $a - b$\n",
    "  * $0-0 \\mod 2 = 0 \\mod 2 = 0$,\n",
    "  * $1-0 \\mod 2 = 1 \\mod 2 = 1$,\n",
    "  * $0-1 \\mod 2 = (0 \\mod 2) - (1 \\mod 2) = (2 \\mod 2) - (1 \\mod 2) = (2-1) \\mod 2 = 1$,\n",
    "  * $1-1 \\mod 2 = 0 \\mod 2 = 0$.\n",
    "\n",
    "Wir können sehen, dass das Ergebnis der Subtraktionsoperation identisch ist mit dem der Addition. In Gatter-Logik ausgedrückt handelt es sich um eine Exklusiv-Oder-Operation (sog. \"xor\"). Das bedeutet, wir können eine Subtraktion in $GF(2)$ durch eine Addition in $GF(2)$ ersetzen.\n",
    "\n",
    "### Addition und Subtraktion von Feld-Elementen in $GF(2^4)$\n",
    "\n",
    "Die Addition und Subtraktion von Feld-Elementen wird koeffizientweise durchgeführt $(a_3x^3 + a_2x^2 + a_1x^1 + a_0x^0)$ + $(b_3x^3 + b_2x^2 + b_1x^1 + b_0x^0)$ = $(c_3x^3 + c_2x^2 + c_1x^1 + c_0x^0)$. Exakt so wie wir es in der Schule für Polynome gelernt haben.\n",
    "\n",
    "* $c_3 = a_3 + b_3$\n",
    "* $c_2 = a_2 + b_2$\n",
    "* $c_1 = a_1 + b_1$\n",
    "* $c_0 = a_0 + b_0$\n",
    "\n",
    "**TODO:**\n",
    "\n",
    "* Parallelisierbar...\n",
    "* Carryless addition für feld elemente => xor der beiden feld elemente\n",
    "\n",
    "### Multiplikation und Division von Feld-Elementen in $GF(2^4)$\n",
    "\n",
    "* Multiplikation wird auf addition in GF(2) zurückgeführt\n",
    "* schriftliche multiplikation von polynomen\n",
    "* multiplikation (und division) von polynomen kann dazu führen, dass das resultat länger als das feld ist\n",
    "* es muss demnach ein irreduzibles polynom p(x) des grades q gefunden werden, das bedeutetm dass a(x) * b(x) modulp p(x) berechnet wird, indem multipliziert wird und der rest ermittelt wird\n",
    "\n",
    "* division ist eine multiplikation mit dem inversen element, wobei das inverse element $a^{-1}(x)$ die bedingung $ a(x) \\cdot a^{-1}(x)=1$ erfüllt\n",
    "\n",
    "### GF(2^8)\n",
    "\n",
    "* für AES verschlüsselung in GF(2^8) wird das polynom 0x11B = x^8 + x^4 + x^3 + x + 1 verwendet\n",
    "* es gibt verschiedene parameter die man für ein feld wählen kann, muss aber vorher festgelegt werden\n",
    "* Feld + primitives Element....\n",
    "* primitives element 2 => 16 verschiedene irreduzible polynome"
   ]
  },
  {
   "cell_type": "code",
   "execution_count": null,
   "metadata": {},
   "outputs": [],
   "source": []
  },
  {
   "cell_type": "markdown",
   "metadata": {},
   "source": [
    "## Reed Solomon Encoding\n",
    "\n"
   ]
  },
  {
   "cell_type": "code",
   "execution_count": null,
   "metadata": {},
   "outputs": [],
   "source": []
  },
  {
   "cell_type": "markdown",
   "metadata": {},
   "source": [
    "## Reed Solomon Decoding\n",
    "\n",
    "* Erkennen ob wir einen Fehler haben ist einfach, verglichen mit einer korrektur. \n",
    "  * Wir führen die Encoding operation durch und vergleichen den Divisionsrest beider operationen, den, den wir mit übertragen haben, mit dem den wir beim empfang berechnet haben\n",
    "    * Ist der divisionsrest gleich -> Daten sind korrekt übertragen worden, daten akzeptiert\n",
    "    * Ist der disisionsrest ungleich -> Daten müssen korrigiert werden\n",
    "    \n",
    "    \n",
    "### Korrektur\n",
    "\n",
    "* Klasisch Berlekamp-Massey-Algorithmus\n",
    "* Errechnen eines syndromvektors/fehler polynoms aus empfangenen Daten und errechneten Daten\n",
    "* Errechnen der Fehlerstellen\n",
    "* Errechnen der korrekten werte an diesen Fehlerstellen\n",
    "\n",
    "## Reed-Solomon-Coding/Decoding with Fourier-Transformation\n",
    "\n",
    "* Wegen FFT wissen wir, wie wir schnell zwischen den Domains transformieren können\n",
    "* Wegen verbesserter Algorithmen für matritzen operationen (bspw. Alphatensor) können wir teure Multiplikationsoperationen durch Additionsoperationen ersetzen."
   ]
  },
  {
   "cell_type": "code",
   "execution_count": null,
   "metadata": {},
   "outputs": [],
   "source": []
  },
  {
   "cell_type": "code",
   "execution_count": null,
   "metadata": {},
   "outputs": [],
   "source": []
  }
 ],
 "metadata": {
  "kernelspec": {
   "display_name": "Python 3",
   "language": "python",
   "name": "python3"
  },
  "language_info": {
   "codemirror_mode": {
    "name": "ipython",
    "version": 3
   },
   "file_extension": ".py",
   "mimetype": "text/x-python",
   "name": "python",
   "nbconvert_exporter": "python",
   "pygments_lexer": "ipython3",
   "version": "3.6.4"
  },
  "toc": {
   "base_numbering": 1,
   "nav_menu": {},
   "number_sections": true,
   "sideBar": true,
   "skip_h1_title": false,
   "title_cell": "Table of Contents",
   "title_sidebar": "Contents",
   "toc_cell": false,
   "toc_position": {},
   "toc_section_display": true,
   "toc_window_display": false
  }
 },
 "nbformat": 4,
 "nbformat_minor": 2
}
