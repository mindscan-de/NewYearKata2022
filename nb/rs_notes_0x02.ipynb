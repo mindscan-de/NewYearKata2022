{
 "cells": [
  {
   "cell_type": "markdown",
   "metadata": {},
   "source": [
    "## Ausblick\n",
    "\n",
    "Vielleicht übersteigt dieses Kapitel das was ich in der NeuJahrsKata erreichen will, aber NTT ist durchaus ein interessantes Feld und lohnt enine implementation.\n",
    "\n"
   ]
  },
  {
   "cell_type": "markdown",
   "metadata": {},
   "source": [
    "## Reed-Solomon-Coding/Decoding with Fourier Transformation and Fourier-like Transformation (NTT)\n",
    "\n",
    "* Wegen FFT wissen wir, wie wir schnell zwischen den Domains (bei FFT/DFT zeit und frequenz) transformieren können\n",
    "* wir können bestimmte berechnungen in der frequenz domain durch punktweise multiplikation, statt matritzen multiplikation durchführen\n",
    "  * der aufwand dafür ist die transformation in die frequenzdomain und zurück\n",
    "  * der aufwand ist jedoch durch wahl einer geschickten multiplikations und additionsstrategie geringer\n",
    "* Wegen verbesserter Algorithmen für matritzen operationen (bspw. Alphatensor) können wir teure Multiplikationsoperationen durch Additionsoperationen ersetzen.\n",
    "\n",
    "Das Äquivalent einer Diskreten-Fourier-Transformation auf Galoisfeldern heisst Zahlentheoretische Transformation - number theoretic transformation (NTT) und das Äquivalent einer inversen Diskreten Fourier-Transformation auf Galoisfeldern ist eine inverse Zahlentheoretische Transformation -- inverse number theroretic transform (iNNT).\n",
    "\n",
    "Angenommen wir haben eine normale diskrete fourier transformationdie wir in matrixform haben und bei der wir die Daten mit der Fourier Matrix multiplizieren.\n",
    "\n",
    "$[ 1   1    1    1  ]$\n",
    "$[ 1   w   w^2  w^3 ]$\n",
    "$[ 1  w^2  w^4  w^6 ]$\n",
    "$[ 1  w^3  w^6  w^9 ]$\n",
    "\n",
    "die einheit w is e^(2\\pi i / n), statt jedoch eine eine komplexe Zahl w zu verwenden, verwenden wir Zahlen die w^n=1 ergeben."
   ]
  },
  {
   "cell_type": "markdown",
   "metadata": {},
   "source": [
    "## Quellen\n",
    "\n",
    "* http://www.apfloat.org/ntt.html\n",
    "  * Arbitrary Precision Float - NTT - lässt sich für beliebig genaue Rechnungen einsetzen, bspw auch durch anwendung des CRT (Chinesisches Reste Theorems) können berechnungen mit verschiedenen Primzahlbasen erledigt werden und anschließend via CRT der eigentliche wert berechnet werden.\n",
    "  * hier berechnung von pi auf 1,9 milliarden nachkommastellen genau.\n",
    "* http://www.apfloat.org/numberth.m - Mathematica program für eine NTT und INTT\n",
    "  * beispielcode\n",
    "* https://en.wikipedia.org/wiki/Number_theoretic_transform\n",
    "* https://en.wikipedia.org/wiki/Discrete_Fourier_transform_over_a_ring\n",
    "* https://github.com/Bulat-Ziganshin/FastECC/blob/master/NTT.md\n",
    "* https://github.com/Bulat-Ziganshin/FastECC\n",
    "* https://cgyurgyik.github.io/posts/2021/04/brief-introduction-to-ntt/\n",
    "* https://ccrma.stanford.edu/~jos/dft/Number_Theoretic_Transform.html\n",
    "\n",
    "\n",
    "* https://eprint.iacr.org/2016/504.pdf\n",
    "* Cooley and Tukey’s seminal paper - \n",
    "  * J. W. Cooley and J.W. Tukey. An algorithm for the machine calculation of complex Fourier series. Mathematics of Computation, 19(90):297–301, 1965\n",
    "* https://eprint.iacr.org/2017/727.pdf - A note on the implementation of the Number Theoretic Transform\n",
    "* https://www.youtube.com/watch?v=KIg2B0Ja02c - accelerating Number theoretic transformations for bootstrappable homomorphic encrypion on GPUs "
   ]
  },
  {
   "cell_type": "code",
   "execution_count": null,
   "metadata": {},
   "outputs": [],
   "source": []
  },
  {
   "cell_type": "code",
   "execution_count": null,
   "metadata": {},
   "outputs": [],
   "source": []
  }
 ],
 "metadata": {
  "kernelspec": {
   "display_name": "Python 3",
   "language": "python",
   "name": "python3"
  },
  "language_info": {
   "codemirror_mode": {
    "name": "ipython",
    "version": 3
   },
   "file_extension": ".py",
   "mimetype": "text/x-python",
   "name": "python",
   "nbconvert_exporter": "python",
   "pygments_lexer": "ipython3",
   "version": "3.6.4"
  },
  "toc": {
   "base_numbering": 1,
   "nav_menu": {},
   "number_sections": true,
   "sideBar": true,
   "skip_h1_title": false,
   "title_cell": "Table of Contents",
   "title_sidebar": "Contents",
   "toc_cell": false,
   "toc_position": {},
   "toc_section_display": true,
   "toc_window_display": false
  }
 },
 "nbformat": 4,
 "nbformat_minor": 2
}
